{
 "metadata": {
  "name": "",
  "signature": "sha256:71220da04699250960d9ec79fd248d52857dbe5ca03c4dac35584da513baee8c"
 },
 "nbformat": 3,
 "nbformat_minor": 0,
 "worksheets": [
  {
   "cells": [
    {
     "cell_type": "heading",
     "level": 1,
     "metadata": {},
     "source": [
      "Getting to Know Your Data"
     ]
    },
    {
     "cell_type": "markdown",
     "metadata": {},
     "source": [
      "In this notebook, we'll use the `pandas` library to get to know the <a href=\"https://archive.ics.uci.edu/ml/datasets/Adult\" target=\"_blank\">adult dataset</a>. If you need to install Python and the necessary packages like `pandas` and IPython Notebook, one quick option is to download and install the <a href=\"https://store.continuum.io/cshop/anaconda/\" target=\"_blank\">Anaconda distribution</a>."
     ]
    },
    {
     "cell_type": "heading",
     "level": 3,
     "metadata": {},
     "source": [
      "Loading in the Data"
     ]
    },
    {
     "cell_type": "code",
     "collapsed": false,
     "input": [
      "# pandas is a powerful library for data manipulation\n",
      "import pandas as pd\n",
      "\n",
      "# matplotlib is used to plot the histograms\n",
      "import matplotlib.pyplot as plt\n",
      "%matplotlib inline"
     ],
     "language": "python",
     "metadata": {},
     "outputs": [],
     "prompt_number": 1
    },
    {
     "cell_type": "code",
     "collapsed": false,
     "input": [
      "# it turns out that the dataset doens't actually have a header, so we'll have to insert it manually\n",
      "names = ['age', 'workclass', 'fnlwgt', 'education', 'education-num', 'martial-status', 'occupation', 'relationship',\n",
      "          'race', 'sex', 'capital-gain', 'capital-loss', 'hours-per-week', 'native-country', 'income']\n",
      "\n",
      "# load in the adult dataset from url\n",
      "adult = pd.io.parsers.read_csv('http://archive.ics.uci.edu/ml/machine-learning-databases/adult/adult.data',\n",
      "                               header=None, names=names)\n",
      "\n",
      "# remove empty rows\n",
      "adult.dropna(how='all', inplace=True)"
     ],
     "language": "python",
     "metadata": {},
     "outputs": [],
     "prompt_number": 2
    },
    {
     "cell_type": "markdown",
     "metadata": {},
     "source": [
      "Let's see what the first five rows look like."
     ]
    },
    {
     "cell_type": "code",
     "collapsed": false,
     "input": [
      "adult.head(5)"
     ],
     "language": "python",
     "metadata": {},
     "outputs": [
      {
       "html": [
        "<div style=\"max-height:1000px;max-width:1500px;overflow:auto;\">\n",
        "<table border=\"1\" class=\"dataframe\">\n",
        "  <thead>\n",
        "    <tr style=\"text-align: right;\">\n",
        "      <th></th>\n",
        "      <th>age</th>\n",
        "      <th>workclass</th>\n",
        "      <th>fnlwgt</th>\n",
        "      <th>education</th>\n",
        "      <th>education-num</th>\n",
        "      <th>martial-status</th>\n",
        "      <th>occupation</th>\n",
        "      <th>relationship</th>\n",
        "      <th>race</th>\n",
        "      <th>sex</th>\n",
        "      <th>capital-gain</th>\n",
        "      <th>capital-loss</th>\n",
        "      <th>hours-per-week</th>\n",
        "      <th>native-country</th>\n",
        "      <th>income</th>\n",
        "    </tr>\n",
        "  </thead>\n",
        "  <tbody>\n",
        "    <tr>\n",
        "      <th>0</th>\n",
        "      <td> 39</td>\n",
        "      <td>         State-gov</td>\n",
        "      <td>  77516</td>\n",
        "      <td>  Bachelors</td>\n",
        "      <td> 13</td>\n",
        "      <td>       Never-married</td>\n",
        "      <td>       Adm-clerical</td>\n",
        "      <td>  Not-in-family</td>\n",
        "      <td>  White</td>\n",
        "      <td>    Male</td>\n",
        "      <td> 2174</td>\n",
        "      <td> 0</td>\n",
        "      <td> 40</td>\n",
        "      <td>  United-States</td>\n",
        "      <td>  &lt;=50K</td>\n",
        "    </tr>\n",
        "    <tr>\n",
        "      <th>1</th>\n",
        "      <td> 50</td>\n",
        "      <td>  Self-emp-not-inc</td>\n",
        "      <td>  83311</td>\n",
        "      <td>  Bachelors</td>\n",
        "      <td> 13</td>\n",
        "      <td>  Married-civ-spouse</td>\n",
        "      <td>    Exec-managerial</td>\n",
        "      <td>        Husband</td>\n",
        "      <td>  White</td>\n",
        "      <td>    Male</td>\n",
        "      <td>    0</td>\n",
        "      <td> 0</td>\n",
        "      <td> 13</td>\n",
        "      <td>  United-States</td>\n",
        "      <td>  &lt;=50K</td>\n",
        "    </tr>\n",
        "    <tr>\n",
        "      <th>2</th>\n",
        "      <td> 38</td>\n",
        "      <td>           Private</td>\n",
        "      <td> 215646</td>\n",
        "      <td>    HS-grad</td>\n",
        "      <td>  9</td>\n",
        "      <td>            Divorced</td>\n",
        "      <td>  Handlers-cleaners</td>\n",
        "      <td>  Not-in-family</td>\n",
        "      <td>  White</td>\n",
        "      <td>    Male</td>\n",
        "      <td>    0</td>\n",
        "      <td> 0</td>\n",
        "      <td> 40</td>\n",
        "      <td>  United-States</td>\n",
        "      <td>  &lt;=50K</td>\n",
        "    </tr>\n",
        "    <tr>\n",
        "      <th>3</th>\n",
        "      <td> 53</td>\n",
        "      <td>           Private</td>\n",
        "      <td> 234721</td>\n",
        "      <td>       11th</td>\n",
        "      <td>  7</td>\n",
        "      <td>  Married-civ-spouse</td>\n",
        "      <td>  Handlers-cleaners</td>\n",
        "      <td>        Husband</td>\n",
        "      <td>  Black</td>\n",
        "      <td>    Male</td>\n",
        "      <td>    0</td>\n",
        "      <td> 0</td>\n",
        "      <td> 40</td>\n",
        "      <td>  United-States</td>\n",
        "      <td>  &lt;=50K</td>\n",
        "    </tr>\n",
        "    <tr>\n",
        "      <th>4</th>\n",
        "      <td> 28</td>\n",
        "      <td>           Private</td>\n",
        "      <td> 338409</td>\n",
        "      <td>  Bachelors</td>\n",
        "      <td> 13</td>\n",
        "      <td>  Married-civ-spouse</td>\n",
        "      <td>     Prof-specialty</td>\n",
        "      <td>           Wife</td>\n",
        "      <td>  Black</td>\n",
        "      <td>  Female</td>\n",
        "      <td>    0</td>\n",
        "      <td> 0</td>\n",
        "      <td> 40</td>\n",
        "      <td>           Cuba</td>\n",
        "      <td>  &lt;=50K</td>\n",
        "    </tr>\n",
        "  </tbody>\n",
        "</table>\n",
        "</div>"
       ],
       "metadata": {},
       "output_type": "pyout",
       "prompt_number": 3,
       "text": [
        "   age          workclass  fnlwgt   education  education-num  \\\n",
        "0   39          State-gov   77516   Bachelors             13   \n",
        "1   50   Self-emp-not-inc   83311   Bachelors             13   \n",
        "2   38            Private  215646     HS-grad              9   \n",
        "3   53            Private  234721        11th              7   \n",
        "4   28            Private  338409   Bachelors             13   \n",
        "\n",
        "        martial-status          occupation    relationship    race      sex  \\\n",
        "0        Never-married        Adm-clerical   Not-in-family   White     Male   \n",
        "1   Married-civ-spouse     Exec-managerial         Husband   White     Male   \n",
        "2             Divorced   Handlers-cleaners   Not-in-family   White     Male   \n",
        "3   Married-civ-spouse   Handlers-cleaners         Husband   Black     Male   \n",
        "4   Married-civ-spouse      Prof-specialty            Wife   Black   Female   \n",
        "\n",
        "   capital-gain  capital-loss  hours-per-week  native-country  income  \n",
        "0          2174             0              40   United-States   <=50K  \n",
        "1             0             0              13   United-States   <=50K  \n",
        "2             0             0              40   United-States   <=50K  \n",
        "3             0             0              40   United-States   <=50K  \n",
        "4             0             0              40            Cuba   <=50K  "
       ]
      }
     ],
     "prompt_number": 3
    },
    {
     "cell_type": "heading",
     "level": 3,
     "metadata": {},
     "source": [
      "Similarity Between of Ordinal Attributes"
     ]
    },
    {
     "cell_type": "markdown",
     "metadata": {},
     "source": [
      "Suppose we want to compute some sort of similarity between different values of the **`education`** attribute. This is an ordinal attribute, so one way to do this is to map each value to an integer starting from 0. Then the dissimilarity is just the difference between the integers. In fact, this has already been done for us in the **`education-num`** column. But let's see whether we can do this ourselves."
     ]
    },
    {
     "cell_type": "code",
     "collapsed": false,
     "input": [
      "# define a list that ranks the 16 types of education level from lowest to highest\n",
      "education_order = ['Preschool', '1st-4th', '5th-6th', '7th-8th', '9th', '10th', '11th', '12th', 'HS-grad',\n",
      "                   'Some-college', 'Assoc-voc', 'Assoc-acdm', 'Bachelors', 'Masters', 'Prof-school', 'Doctorate']\n",
      "\n",
      "# map each value of the `education` attribute to its corresponding integer\n",
      "adult['education'] = adult['education'].map(lambda x: education_order.index(x.strip()))"
     ],
     "language": "python",
     "metadata": {},
     "outputs": [],
     "prompt_number": 4
    },
    {
     "cell_type": "markdown",
     "metadata": {},
     "source": [
      "As we can see from the updated table below, each education level has now been mapped to an integer."
     ]
    },
    {
     "cell_type": "code",
     "collapsed": false,
     "input": [
      "adult.head(5)"
     ],
     "language": "python",
     "metadata": {},
     "outputs": [
      {
       "html": [
        "<div style=\"max-height:1000px;max-width:1500px;overflow:auto;\">\n",
        "<table border=\"1\" class=\"dataframe\">\n",
        "  <thead>\n",
        "    <tr style=\"text-align: right;\">\n",
        "      <th></th>\n",
        "      <th>age</th>\n",
        "      <th>workclass</th>\n",
        "      <th>fnlwgt</th>\n",
        "      <th>education</th>\n",
        "      <th>education-num</th>\n",
        "      <th>martial-status</th>\n",
        "      <th>occupation</th>\n",
        "      <th>relationship</th>\n",
        "      <th>race</th>\n",
        "      <th>sex</th>\n",
        "      <th>capital-gain</th>\n",
        "      <th>capital-loss</th>\n",
        "      <th>hours-per-week</th>\n",
        "      <th>native-country</th>\n",
        "      <th>income</th>\n",
        "    </tr>\n",
        "  </thead>\n",
        "  <tbody>\n",
        "    <tr>\n",
        "      <th>0</th>\n",
        "      <td> 39</td>\n",
        "      <td>         State-gov</td>\n",
        "      <td>  77516</td>\n",
        "      <td> 12</td>\n",
        "      <td> 13</td>\n",
        "      <td>       Never-married</td>\n",
        "      <td>       Adm-clerical</td>\n",
        "      <td>  Not-in-family</td>\n",
        "      <td>  White</td>\n",
        "      <td>    Male</td>\n",
        "      <td> 2174</td>\n",
        "      <td> 0</td>\n",
        "      <td> 40</td>\n",
        "      <td>  United-States</td>\n",
        "      <td>  &lt;=50K</td>\n",
        "    </tr>\n",
        "    <tr>\n",
        "      <th>1</th>\n",
        "      <td> 50</td>\n",
        "      <td>  Self-emp-not-inc</td>\n",
        "      <td>  83311</td>\n",
        "      <td> 12</td>\n",
        "      <td> 13</td>\n",
        "      <td>  Married-civ-spouse</td>\n",
        "      <td>    Exec-managerial</td>\n",
        "      <td>        Husband</td>\n",
        "      <td>  White</td>\n",
        "      <td>    Male</td>\n",
        "      <td>    0</td>\n",
        "      <td> 0</td>\n",
        "      <td> 13</td>\n",
        "      <td>  United-States</td>\n",
        "      <td>  &lt;=50K</td>\n",
        "    </tr>\n",
        "    <tr>\n",
        "      <th>2</th>\n",
        "      <td> 38</td>\n",
        "      <td>           Private</td>\n",
        "      <td> 215646</td>\n",
        "      <td>  8</td>\n",
        "      <td>  9</td>\n",
        "      <td>            Divorced</td>\n",
        "      <td>  Handlers-cleaners</td>\n",
        "      <td>  Not-in-family</td>\n",
        "      <td>  White</td>\n",
        "      <td>    Male</td>\n",
        "      <td>    0</td>\n",
        "      <td> 0</td>\n",
        "      <td> 40</td>\n",
        "      <td>  United-States</td>\n",
        "      <td>  &lt;=50K</td>\n",
        "    </tr>\n",
        "    <tr>\n",
        "      <th>3</th>\n",
        "      <td> 53</td>\n",
        "      <td>           Private</td>\n",
        "      <td> 234721</td>\n",
        "      <td>  6</td>\n",
        "      <td>  7</td>\n",
        "      <td>  Married-civ-spouse</td>\n",
        "      <td>  Handlers-cleaners</td>\n",
        "      <td>        Husband</td>\n",
        "      <td>  Black</td>\n",
        "      <td>    Male</td>\n",
        "      <td>    0</td>\n",
        "      <td> 0</td>\n",
        "      <td> 40</td>\n",
        "      <td>  United-States</td>\n",
        "      <td>  &lt;=50K</td>\n",
        "    </tr>\n",
        "    <tr>\n",
        "      <th>4</th>\n",
        "      <td> 28</td>\n",
        "      <td>           Private</td>\n",
        "      <td> 338409</td>\n",
        "      <td> 12</td>\n",
        "      <td> 13</td>\n",
        "      <td>  Married-civ-spouse</td>\n",
        "      <td>     Prof-specialty</td>\n",
        "      <td>           Wife</td>\n",
        "      <td>  Black</td>\n",
        "      <td>  Female</td>\n",
        "      <td>    0</td>\n",
        "      <td> 0</td>\n",
        "      <td> 40</td>\n",
        "      <td>           Cuba</td>\n",
        "      <td>  &lt;=50K</td>\n",
        "    </tr>\n",
        "  </tbody>\n",
        "</table>\n",
        "</div>"
       ],
       "metadata": {},
       "output_type": "pyout",
       "prompt_number": 5,
       "text": [
        "   age          workclass  fnlwgt  education  education-num  \\\n",
        "0   39          State-gov   77516         12             13   \n",
        "1   50   Self-emp-not-inc   83311         12             13   \n",
        "2   38            Private  215646          8              9   \n",
        "3   53            Private  234721          6              7   \n",
        "4   28            Private  338409         12             13   \n",
        "\n",
        "        martial-status          occupation    relationship    race      sex  \\\n",
        "0        Never-married        Adm-clerical   Not-in-family   White     Male   \n",
        "1   Married-civ-spouse     Exec-managerial         Husband   White     Male   \n",
        "2             Divorced   Handlers-cleaners   Not-in-family   White     Male   \n",
        "3   Married-civ-spouse   Handlers-cleaners         Husband   Black     Male   \n",
        "4   Married-civ-spouse      Prof-specialty            Wife   Black   Female   \n",
        "\n",
        "   capital-gain  capital-loss  hours-per-week  native-country  income  \n",
        "0          2174             0              40   United-States   <=50K  \n",
        "1             0             0              13   United-States   <=50K  \n",
        "2             0             0              40   United-States   <=50K  \n",
        "3             0             0              40   United-States   <=50K  \n",
        "4             0             0              40            Cuba   <=50K  "
       ]
      }
     ],
     "prompt_number": 5
    },
    {
     "cell_type": "heading",
     "level": 3,
     "metadata": {},
     "source": [
      "Mean and Variance of Age"
     ]
    },
    {
     "cell_type": "markdown",
     "metadata": {},
     "source": [
      "It's easy to compute the mean and variance of the age in first five rows. Try to compute these manually and compare with the answers below."
     ]
    },
    {
     "cell_type": "code",
     "collapsed": false,
     "input": [
      "# mean of first 5 ages\n",
      "adult['age'][:5].mean()"
     ],
     "language": "python",
     "metadata": {},
     "outputs": [
      {
       "metadata": {},
       "output_type": "pyout",
       "prompt_number": 6,
       "text": [
        "41.600000000000001"
       ]
      }
     ],
     "prompt_number": 6
    },
    {
     "cell_type": "code",
     "collapsed": false,
     "input": [
      "# variance of first 5 ages (this is the unbiased estimate with the (n-1) in the denominator)\n",
      "adult['age'][:5].var()"
     ],
     "language": "python",
     "metadata": {},
     "outputs": [
      {
       "metadata": {},
       "output_type": "pyout",
       "prompt_number": 7,
       "text": [
        "101.30000000000018"
       ]
      }
     ],
     "prompt_number": 7
    },
    {
     "cell_type": "heading",
     "level": 3,
     "metadata": {},
     "source": [
      "Relationship Between Age and Income"
     ]
    },
    {
     "cell_type": "markdown",
     "metadata": {},
     "source": [
      "We can also divide the table into two groups, one consisting of people with income less than \\$50k and the other with income more than \\$50k."
     ]
    },
    {
     "cell_type": "code",
     "collapsed": false,
     "input": [
      "age_groups = adult.groupby('income')['age']"
     ],
     "language": "python",
     "metadata": {},
     "outputs": [],
     "prompt_number": 8
    },
    {
     "cell_type": "markdown",
     "metadata": {},
     "source": [
      "Looking at the mean of each group, we can see that the more wealthy group of people tend to be older."
     ]
    },
    {
     "cell_type": "code",
     "collapsed": false,
     "input": [
      "age_groups.mean()"
     ],
     "language": "python",
     "metadata": {},
     "outputs": [
      {
       "metadata": {},
       "output_type": "pyout",
       "prompt_number": 9,
       "text": [
        "income\n",
        " <=50K    36.783738\n",
        " >50K     44.249841\n",
        "Name: age, dtype: float64"
       ]
      }
     ],
     "prompt_number": 9
    },
    {
     "cell_type": "markdown",
     "metadata": {},
     "source": [
      "Finally, from the variances, it looks like the ages in the less wealthy group are more spread out."
     ]
    },
    {
     "cell_type": "code",
     "collapsed": false,
     "input": [
      "age_groups.var()"
     ],
     "language": "python",
     "metadata": {},
     "outputs": [
      {
       "metadata": {},
       "output_type": "pyout",
       "prompt_number": 10,
       "text": [
        "income\n",
        " <=50K    196.562881\n",
        " >50K     110.649944\n",
        "Name: age, dtype: float64"
       ]
      }
     ],
     "prompt_number": 10
    },
    {
     "cell_type": "markdown",
     "metadata": {},
     "source": [
      "It might be easier to see these effects if we plot the histogram of the ages from each income group."
     ]
    },
    {
     "cell_type": "code",
     "collapsed": false,
     "input": [
      "axes = adult.hist('age', by='income', sharey=True, figsize=(13, 5))"
     ],
     "language": "python",
     "metadata": {},
     "outputs": [
      {
       "metadata": {
        "png": {
         "height": 314,
         "width": 796
        }
       },
       "output_type": "display_data",
       "png": "[encoded data removed]",
       "text": [
        "<matplotlib.figure.Figure at 0x9bf17b8>"
       ]
      }
     ],
     "prompt_number": 11
    }
   ],
   "metadata": {}
  }
 ]
}